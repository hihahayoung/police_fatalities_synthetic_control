{
 "cells": [
  {
   "cell_type": "code",
   "execution_count": null,
   "metadata": {
    "vscode": {
     "languageId": "r"
    }
   },
   "outputs": [],
   "source": [
    "# Load the knitr package\n",
    "library(knitr)"
   ]
  },
  {
   "cell_type": "code",
   "execution_count": null,
   "metadata": {
    "vscode": {
     "languageId": "r"
    }
   },
   "outputs": [
    {
     "data": {
      "text/plain": [
       "\\begin{table}\n",
       "\n",
       "\\caption{Predictor weights}\n",
       "\\centering\n",
       "\\begin{tabular}[t]{lr}\n",
       "\\toprule\n",
       "Predictor & Weight\\\\\n",
       "\\midrule\n",
       "kills\\_per\\_million & 0.425\\\\\n",
       "gdp\\_per\\_capita & 0.084\\\\\n",
       "poc\\_percentage\\_population & 0.040\\\\\n",
       "dem\\_majority & 0.002\\\\\n",
       "dem\\_governor & 0.002\\\\\n",
       "\\addlinespace\n",
       "violent\\_crime\\_per\\_population & 0.033\\\\\n",
       "homicide\\_per\\_populaiton & 0.415\\\\\n",
       "\\bottomrule\n",
       "\\end{tabular}\n",
       "\\end{table}"
      ]
     },
     "metadata": {},
     "output_type": "display_data"
    }
   ],
   "source": [
    "#Table 1: Predictor Weights (New Jersey)\n",
    "\n",
    "# Create a data frame with the provided data\n",
    "data <- data.frame(\n",
    "  Predictor = c(\n",
    "    \"kills_per_million\", \n",
    "    \"gdp_per_capita\", \n",
    "    \"poc_percentage_population\", \n",
    "    \"dem_majority\", \n",
    "    \"dem_governor\", \n",
    "    \"violent_crime_per_population\", \n",
    "    \"homicide_per_populaiton\"\n",
    "  ),\n",
    "  Weight = c(0.425, 0.084, 0.04, 0.002, 0.002, 0.033, 0.415)\n",
    ")\n",
    "\n",
    "# Create a LaTeX-style table\n",
    "kable(data, format = \"latex\", booktabs = TRUE, caption = \"Predictor weights\")\n"
   ]
  },
  {
   "cell_type": "code",
   "execution_count": null,
   "metadata": {
    "vscode": {
     "languageId": "r"
    }
   },
   "outputs": [
    {
     "data": {
      "text/plain": [
       "\\begin{table}\n",
       "\n",
       "\\caption{Synthetic Weights for Pre-treatment New Jersey}\n",
       "\\centering\n",
       "\\begin{tabular}[t]{lrrr}\n",
       "\\toprule\n",
       "Predictor & Treated & Synthetic & Sample Mean\\\\\n",
       "\\midrule\n",
       "kills\\_per\\_million & 1.639 & 1.657 & 3.752\\\\\n",
       "gdp\\_per\\_capita & 67014.928 & 66761.505 & 57007.454\\\\\n",
       "poc\\_percentage\\_population & 0.257 & 0.251 & 0.178\\\\\n",
       "dem\\_majority & 1.000 & 0.603 & 0.260\\\\\n",
       "dem\\_governor & 0.444 & 0.737 & 0.326\\\\\n",
       "\\addlinespace\n",
       "violent\\_crime\\_per\\_population & 0.002 & 0.003 & 0.004\\\\\n",
       "homicide\\_per\\_population & 0.000 & 0.000 & 0.000\\\\\n",
       "\\bottomrule\n",
       "\\end{tabular}\n",
       "\\end{table}"
      ]
     },
     "metadata": {},
     "output_type": "display_data"
    }
   ],
   "source": [
    "# Table 2: Synthetic Weights for Pre-treatment New Jersey\n",
    "\n",
    "# Create a data frame with the provided data\n",
    "data <- data.frame(\n",
    "  Predictor = c(\n",
    "    \"kills_per_million\",\n",
    "    \"gdp_per_capita\",\n",
    "    \"poc_percentage_population\",\n",
    "    \"dem_majority\",\n",
    "    \"dem_governor\",\n",
    "    \"violent_crime_per_population\",\n",
    "    \"homicide_per_population\"\n",
    "  ),\n",
    "  Treated = c(1.639, 67014.928, 0.257, 1.000, 0.444, 0.002, 0.000),\n",
    "  Synthetic = c(1.657, 66761.505, 0.251, 0.603, 0.737, 0.003, 0.000),\n",
    "  Sample_Mean = c(3.752, 57007.454, 0.178, 0.260, 0.326, 0.004, 0.000)\n",
    ")\n",
    "\n",
    "# Create a LaTeX-style table\n",
    "kable(\n",
    "  data,\n",
    "  format = \"latex\",\n",
    "  booktabs = TRUE,\n",
    "  col.names = c(\"Predictor\", \"Treated\", \"Synthetic\", \"Sample Mean\"),\n",
    "  caption = \"Synthetic Weights for Pre-treatment New Jersey\"\n",
    ")"
   ]
  },
  {
   "cell_type": "code",
   "execution_count": 8,
   "metadata": {
    "vscode": {
     "languageId": "r"
    }
   },
   "outputs": [
    {
     "data": {
      "text/plain": [
       "\\begin{table}\n",
       "\n",
       "\\caption{Non-zero State Weights}\n",
       "\\centering\n",
       "\\begin{tabular}[t]{lrlr}\n",
       "\\toprule\n",
       "  & Index & State & Weights\\\\\n",
       "\\midrule\n",
       "9 & 10 & Hawaii & 0.047\\\\\n",
       "25 & 28 & New Hampshire & 0.053\\\\\n",
       "26 & 31 & New York & 0.295\\\\\n",
       "33 & 38 & Rhode Island & 0.186\\\\\n",
       "40 & 45 & Virginia & 0.420\\\\\n",
       "\\bottomrule\n",
       "\\end{tabular}\n",
       "\\end{table}"
      ]
     },
     "metadata": {},
     "output_type": "display_data"
    }
   ],
   "source": [
    "# Table 3: Donor Weights in Synthetic New Jersey\n",
    "\n",
    "\n",
    "data <- data.frame(\n",
    "  Index = c(0, 1, 2, 3, 4, 7, 8, 9, 10, 11, 13, 14, 15, 16, 17, 18, 20, 21, 22, 23, 24, 25, 26, 27, 28, 31, 32, 33, 34, 35, 36, 37, 38, 39, 40, 41, 42, 43, 44, 45, 46, 47, 48, 49),\n",
    "  State = c(\"Alabama\", \"Alaska\", \"Arizona\", \"Arkansas\", \"California\", \"Delaware\", \"Florida\", \"Georgia\", \"Hawaii\", \"Idaho\", \"Indiana\", \"Iowa\", \"Kansas\", \"Kentucky\", \"Louisiana\", \"Maine\", \"Massachusetts\", \"Michigan\", \"Minnesota\", \"Mississippi\", \"Missouri\", \"Montana\", \"Nebraska\", \"Nevada\", \"New Hampshire\", \"New York\", \"North Carolina\", \"North Dakota\", \"Ohio\", \"Oklahoma\", \"Oregon\", \"Pennsylvania\", \"Rhode Island\", \"South Carolina\", \"South Dakota\", \"Tennessee\", \"Texas\", \"Utah\", \"Vermont\", \"Virginia\", \"Washington\", \"West Virginia\", \"Wisconsin\", \"Wyoming\"),\n",
    "  Weights = c(0.000, 0.000, 0.000, 0.000, 0.000, 0.000, 0.000, 0.000, 0.047, 0.000, 0.000, 0.000, 0.000, 0.000, 0.000, 0.000, 0.000, 0.000, 0.000, 0.000, 0.000, 0.000, 0.000, 0.000, 0.053, 0.295, 0.000, 0.000, 0.000, 0.000, 0.000, 0.000, 0.186, 0.000, 0.000, 0.000, 0.000, 0.000, 0.000, 0.420, 0.000, 0.000, 0.000, 0.000)\n",
    ")\n",
    "\n",
    "# Filter out rows where Weights is 0.000\n",
    "filtered_data <- data[data$Weights != 0.000, ]\n",
    "\n",
    "# Create a LaTeX-style table\n",
    "kable(\n",
    "  filtered_data,\n",
    "  format = \"latex\",\n",
    "  booktabs = TRUE,\n",
    "  col.names = c(\"Index\", \"State\", \"Weights\"),\n",
    "  caption = \"Non-zero State Weights\"\n",
    ")"
   ]
  },
  {
   "cell_type": "code",
   "execution_count": 9,
   "metadata": {
    "vscode": {
     "languageId": "r"
    }
   },
   "outputs": [
    {
     "data": {
      "text/plain": [
       "\\begin{table}\n",
       "\n",
       "\\caption{Predictor Weights for Analysis}\n",
       "\\centering\n",
       "\\begin{tabular}[t]{lr}\n",
       "\\toprule\n",
       "Predictor & Weights\\\\\n",
       "\\midrule\n",
       "kills\\_per\\_million & 0.461\\\\\n",
       "gdp\\_per\\_capita & 0.069\\\\\n",
       "poc\\_percentage\\_population & 0.078\\\\\n",
       "dem\\_majority & 0.088\\\\\n",
       "dem\\_governor & 0.010\\\\\n",
       "\\addlinespace\n",
       "violent\\_crime\\_per\\_population & 0.032\\\\\n",
       "homicide\\_per\\_population & 0.263\\\\\n",
       "\\bottomrule\n",
       "\\end{tabular}\n",
       "\\end{table}"
      ]
     },
     "metadata": {},
     "output_type": "display_data"
    }
   ],
   "source": [
    "# Table 4\n",
    "\n",
    "# Create a data frame with the provided data\n",
    "data <- data.frame(\n",
    "  Predictor = c(\n",
    "    \"kills_per_million\",\n",
    "    \"gdp_per_capita\",\n",
    "    \"poc_percentage_population\",\n",
    "    \"dem_majority\",\n",
    "    \"dem_governor\",\n",
    "    \"violent_crime_per_population\",\n",
    "    \"homicide_per_population\"\n",
    "  ),\n",
    "  Weights = c(0.461, 0.069, 0.078, 0.088, 0.010, 0.032, 0.263)\n",
    ")\n",
    "\n",
    "# Create a LaTeX-style table\n",
    "kable(\n",
    "  data,\n",
    "  format = \"latex\",\n",
    "  booktabs = TRUE,\n",
    "  col.names = c(\"Predictor\", \"Weights\"),\n",
    "  caption = \"Predictor Weights for Analysis\"\n",
    ")"
   ]
  },
  {
   "cell_type": "code",
   "execution_count": 10,
   "metadata": {
    "vscode": {
     "languageId": "r"
    }
   },
   "outputs": [
    {
     "data": {
      "text/plain": [
       "\\begin{table}\n",
       "\n",
       "\\caption{Synthetic Weights for Pre-treatment Analysis}\n",
       "\\centering\n",
       "\\begin{tabular}[t]{lrrr}\n",
       "\\toprule\n",
       "Predictor & Treated & Synthetic & Sample Mean\\\\\n",
       "\\midrule\n",
       "kills\\_per\\_million & 9.781 & 8.029 & 3.708\\\\\n",
       "gdp\\_per\\_capita & 45364.231 & 56634.263 & 55909.389\\\\\n",
       "poc\\_percentage\\_population & 0.154 & 0.224 & 0.177\\\\\n",
       "dem\\_majority & 1.000 & 0.000 & 0.261\\\\\n",
       "dem\\_governor & 1.000 & 0.000 & 0.315\\\\\n",
       "\\addlinespace\n",
       "violent\\_crime\\_per\\_population & 0.007 & 0.006 & 0.004\\\\\n",
       "homicide\\_per\\_population & 0.000 & 0.000 & 0.000\\\\\n",
       "\\bottomrule\n",
       "\\end{tabular}\n",
       "\\end{table}"
      ]
     },
     "metadata": {},
     "output_type": "display_data"
    }
   ],
   "source": [
    "# Table 5\n",
    "\n",
    "# Create a data frame with the provided data\n",
    "data <- data.frame(\n",
    "  Predictor = c(\n",
    "    \"kills_per_million\",\n",
    "    \"gdp_per_capita\",\n",
    "    \"poc_percentage_population\",\n",
    "    \"dem_majority\",\n",
    "    \"dem_governor\",\n",
    "    \"violent_crime_per_population\",\n",
    "    \"homicide_per_population\"\n",
    "  ),\n",
    "  Treated = c(9.781, 45364.231, 0.154, 1.000, 1.000, 0.007, 0.000),\n",
    "  Synthetic = c(8.029, 56634.263, 0.224, 0.000, 0.000, 0.006, 0.000),\n",
    "  Sample_Mean = c(3.708, 55909.389, 0.177, 0.261, 0.315, 0.004, 0.000)\n",
    ")\n",
    "\n",
    "# Create a LaTeX-style table\n",
    "kable(\n",
    "  data,\n",
    "  format = \"latex\",\n",
    "  booktabs = TRUE,\n",
    "  col.names = c(\"Predictor\", \"Treated\", \"Synthetic\", \"Sample Mean\"),\n",
    "  caption = \"Synthetic Weights for Pre-treatment Analysis\"\n",
    ")"
   ]
  },
  {
   "cell_type": "code",
   "execution_count": 11,
   "metadata": {
    "vscode": {
     "languageId": "r"
    }
   },
   "outputs": [
    {
     "data": {
      "text/plain": [
       "\\begin{table}\n",
       "\n",
       "\\caption{Non-zero State Weights}\n",
       "\\centering\n",
       "\\begin{tabular}[t]{lrlr}\n",
       "\\toprule\n",
       "  & Index & State & Weights\\\\\n",
       "\\midrule\n",
       "2 & 1 & Alaska & 0.309\\\\\n",
       "30 & 35 & Oklahoma & 0.691\\\\\n",
       "\\bottomrule\n",
       "\\end{tabular}\n",
       "\\end{table}"
      ]
     },
     "metadata": {},
     "output_type": "display_data"
    }
   ],
   "source": [
    "data <- data.frame(\n",
    "  Index = c(0, 1, 2, 3, 4, 7, 8, 9, 10, 11, 13, 14, 15, 16, 17, 18, 20, 21, 22, 23, 24, 25, 26, 27, 28, 31, 32, 33, 34, 35, 36, 37, 38, 39, 40, 41, 42, 43, 44, 45, 46, 47, 48, 49),\n",
    "  State = c(\"Alabama\", \"Alaska\", \"Arizona\", \"Arkansas\", \"California\", \"Delaware\", \"Florida\", \"Georgia\", \"Hawaii\", \"Idaho\", \"Indiana\", \"Iowa\", \"Kansas\", \"Kentucky\", \"Louisiana\", \"Maine\", \"Massachusetts\", \"Michigan\", \"Minnesota\", \"Mississippi\", \"Missouri\", \"Montana\", \"Nebraska\", \"Nevada\", \"New Hampshire\", \"New York\", \"North Carolina\", \"North Dakota\", \"Ohio\", \"Oklahoma\", \"Oregon\", \"Pennsylvania\", \"Rhode Island\", \"South Carolina\", \"South Dakota\", \"Tennessee\", \"Texas\", \"Utah\", \"Vermont\", \"Virginia\", \"Washington\", \"West Virginia\", \"Wisconsin\", \"Wyoming\"),\n",
    "  Weights = c(0.000, 0.309, 0.000, 0.000, 0.000, 0.000, 0.000, 0.000, 0.000, 0.000, 0.000, 0.000, 0.000, 0.000, 0.000, 0.000, 0.000, 0.000, 0.000, 0.000, 0.000, 0.000, 0.000, 0.000, 0.000, 0.000, 0.000, 0.000, 0.000, 0.691, 0.000, 0.000, 0.000, 0.000, 0.000, 0.000, 0.000, 0.000, 0.000, 0.000, 0.000, 0.000, 0.000, 0.000)\n",
    ")\n",
    "\n",
    "# Filter out rows where Weights is 0.000\n",
    "filtered_data <- data[data$Weights != 0.000, ]\n",
    "\n",
    "# Create a LaTeX-style table\n",
    "kable(\n",
    "  filtered_data,\n",
    "  format = \"latex\",\n",
    "  booktabs = TRUE,\n",
    "  col.names = c(\"Index\", \"State\", \"Weights\"),\n",
    "  caption = \"Non-zero State Weights\"\n",
    ")"
   ]
  },
  {
   "cell_type": "code",
   "execution_count": null,
   "metadata": {
    "vscode": {
     "languageId": "r"
    }
   },
   "outputs": [],
   "source": []
  }
 ],
 "metadata": {
  "kernelspec": {
   "display_name": "R",
   "language": "R",
   "name": "ir"
  },
  "language_info": {
   "codemirror_mode": "r",
   "file_extension": ".r",
   "mimetype": "text/x-r-source",
   "name": "R",
   "pygments_lexer": "r",
   "version": "4.4.1"
  }
 },
 "nbformat": 4,
 "nbformat_minor": 2
}
